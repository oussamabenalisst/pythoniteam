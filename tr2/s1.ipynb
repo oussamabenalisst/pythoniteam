{
 "cells": [
  {
   "cell_type": "code",
   "execution_count": 2,
   "metadata": {},
   "outputs": [
    {
     "name": "stdout",
     "output_type": "stream",
     "text": [
      "5 est premier\n"
     ]
    }
   ],
   "source": [
    "import math\n",
    "def prem(n):\n",
    "    i=2\n",
    "    while i<math.sqrt(n) and n%i ==0:\n",
    "        i+=1\n",
    "    return i<math.sqrt(n)\n",
    "\n",
    "n=int(input(\"donne n : \"))\n",
    "if prem(n):\n",
    "    print(n,\"est premier\")\n",
    "else:\n",
    "    print(n,\"n'est pas premier\")"
   ]
  },
  {
   "cell_type": "code",
   "execution_count": 1,
   "metadata": {},
   "outputs": [
    {
     "name": "stdout",
     "output_type": "stream",
     "text": [
      "2.3333333333333335\n"
     ]
    }
   ],
   "source": [
    "import numpy as np\n",
    "\n",
    "def sas(t):\n",
    "    x=float(input(\"donne x : \"))\n",
    "    while x!=-1:\n",
    "        t.append(x)\n",
    "        x=float(input(\"donne x : \"))\n",
    "\n",
    "\n",
    "t=[]\n",
    "sas(t)\n",
    "print(np.sum(t)/len(t))"
   ]
  },
  {
   "cell_type": "code",
   "execution_count": 30,
   "metadata": {},
   "outputs": [
    {
     "name": "stdout",
     "output_type": "stream",
     "text": [
      "1233 est pas distinct\n"
     ]
    }
   ],
   "source": [
    "\n",
    "def dis(ch):\n",
    "    for i in range(len(ch)):\n",
    "        j=i+1\n",
    "        while j<len(ch) and ch[i]!=ch[j]:\n",
    "            j+=1\n",
    "        if j!=len(ch):\n",
    "            return False\n",
    "    return True\n",
    "\n",
    "\n",
    "\n",
    "x=int(input(\"donne x : \"))\n",
    "if len(set(str(x)))== len(str(x)) : \n",
    "    print(x,\"est distinct\")\n",
    "else : print(x,\"est pas distinct\")"
   ]
  },
  {
   "cell_type": "code",
   "execution_count": null,
   "metadata": {},
   "outputs": [
    {
     "name": "stdout",
     "output_type": "stream",
     "text": [
      "971 n'est pas curculere\n"
     ]
    }
   ],
   "source": [
    "def ps(n):\n",
    "    ch=str(n)\n",
    "    i=0\n",
    "    while i<len(ch)-1 and prem(int(ch)):\n",
    "        ch=ch[1:len(ch)-1]+ch[0]\n",
    "        i+=1\n",
    "    return i!=len(ch)-1\n",
    "    \n",
    "\n",
    "\n",
    "\n",
    "n=int(input(\"donne n :\"))\n",
    "if  ps(n) : \n",
    "    print(n,\"est curculere\")\n",
    "else : print(n,\"n'est pas curculere\")"
   ]
  }
 ],
 "metadata": {
  "kernelspec": {
   "display_name": "base",
   "language": "python",
   "name": "python3"
  },
  "language_info": {
   "codemirror_mode": {
    "name": "ipython",
    "version": 3
   },
   "file_extension": ".py",
   "mimetype": "text/x-python",
   "name": "python",
   "nbconvert_exporter": "python",
   "pygments_lexer": "ipython3",
   "version": "3.12.4"
  }
 },
 "nbformat": 4,
 "nbformat_minor": 2
}
