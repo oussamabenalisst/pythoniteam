{
 "cells": [
  {
   "cell_type": "code",
   "execution_count": 3,
   "metadata": {},
   "outputs": [
    {
     "name": "stdout",
     "output_type": "stream",
     "text": [
      "[1, 3, 5, 6, 8, 10]\n",
      "[1, 3, 5, 6, 8, 10]\n"
     ]
    }
   ],
   "source": [
    "import pandas as pd\n",
    "\n",
    "l1=[1,2,3,4,5]\n",
    "l2=[2,4,6,8,10]\n",
    "print(list(set(l1)^set(l2)))\n",
    "print(list(set(l1).symmetric_difference(set(l2))))\n",
    "# ex 2\n",
    "# t=pd.Series()"
   ]
  },
  {
   "cell_type": "code",
   "execution_count": 35,
   "metadata": {},
   "outputs": [
    {
     "name": "stdout",
     "output_type": "stream",
     "text": [
      "(array([1, 3], dtype=int64),)\n",
      "[1 3]\n",
      "[1, 3]\n"
     ]
    }
   ],
   "source": [
    "#ex3 \n",
    "import numpy as np\n",
    "s=pd.Series([1,5,8,15,9,7,1,1,1])\n",
    "res=np.where(s%5==0)\n",
    "print(res)\n",
    "print(res[0])\n",
    "print(res[0].tolist())\n"
   ]
  },
  {
   "cell_type": "code",
   "execution_count": 49,
   "metadata": {},
   "outputs": [
    {
     "name": "stdout",
     "output_type": "stream",
     "text": [
      "a   -1.114146\n",
      "b    0.216803\n",
      "c    0.048510\n",
      "d    0.613782\n",
      "e   -1.022039\n",
      "Name: A, dtype: float64\n"
     ]
    }
   ],
   "source": [
    "#ex5\n",
    "df=pd.DataFrame(\n",
    "    np.random.randn(5,3),\n",
    "    columns=['A','B','C'],\n",
    "    index=['a','b','c','d','e']\n",
    ")\n",
    "# print(df)\n",
    "s=pd.Series(df.iloc[:,0])\n",
    "print(s)"
   ]
  },
  {
   "cell_type": "code",
   "execution_count": 45,
   "metadata": {},
   "outputs": [
    {
     "name": "stdout",
     "output_type": "stream",
     "text": [
      "a    0.434545\n",
      "b    0.714768\n",
      "c   -0.553034\n",
      "d    -1.39066\n",
      "e    0.565438\n",
      "f           5\n",
      "Name: A, dtype: object\n"
     ]
    }
   ],
   "source": [
    "s[\"f\"]=\"5\"\n",
    "print(s)"
   ]
  },
  {
   "cell_type": "code",
   "execution_count": 47,
   "metadata": {},
   "outputs": [
    {
     "name": "stdout",
     "output_type": "stream",
     "text": [
      "5    0.434545\n",
      "1    0.714768\n",
      "4   -0.553034\n",
      "0    -1.39066\n",
      "5    0.565438\n",
      "7           5\n",
      "Name: A, dtype: object\n"
     ]
    }
   ],
   "source": [
    "s.index=['5','1','4','0','5','7']\n",
    "print(s)"
   ]
  },
  {
   "cell_type": "code",
   "execution_count": null,
   "metadata": {},
   "outputs": [
    {
     "name": "stdout",
     "output_type": "stream",
     "text": [
      "DatetimeIndex(['2020-01-05', '2020-01-12', '2020-01-19', '2020-01-26',\n",
      "               '2020-02-02', '2020-02-09', '2020-02-16', '2020-02-23',\n",
      "               '2020-03-01', '2020-03-08', '2020-03-15', '2020-03-22',\n",
      "               '2020-03-29', '2020-04-05', '2020-04-12', '2020-04-19',\n",
      "               '2020-04-26', '2020-05-03', '2020-05-10', '2020-05-17',\n",
      "               '2020-05-24', '2020-05-31', '2020-06-07', '2020-06-14',\n",
      "               '2020-06-21', '2020-06-28', '2020-07-05', '2020-07-12',\n",
      "               '2020-07-19', '2020-07-26', '2020-08-02', '2020-08-09',\n",
      "               '2020-08-16', '2020-08-23', '2020-08-30', '2020-09-06',\n",
      "               '2020-09-13', '2020-09-20', '2020-09-27', '2020-10-04',\n",
      "               '2020-10-11', '2020-10-18', '2020-10-25', '2020-11-01',\n",
      "               '2020-11-08', '2020-11-15', '2020-11-22', '2020-11-29',\n",
      "               '2020-12-06', '2020-12-13', '2020-12-20', '2020-12-27'],\n",
      "              dtype='datetime64[ns]', freq='W-SUN')\n",
      "DatetimeIndex(['2020-01-05', '2020-01-12', '2020-01-19', '2020-01-26',\n",
      "               '2020-02-02', '2020-02-09', '2020-02-16', '2020-02-23',\n",
      "               '2020-03-01', '2020-03-08', '2020-03-15', '2020-03-22',\n",
      "               '2020-03-29', '2020-04-05', '2020-04-12', '2020-04-19',\n",
      "               '2020-04-26', '2020-05-03', '2020-05-10', '2020-05-17',\n",
      "               '2020-05-24', '2020-05-31', '2020-06-07', '2020-06-14',\n",
      "               '2020-06-21', '2020-06-28', '2020-07-05', '2020-07-12',\n",
      "               '2020-07-19', '2020-07-26', '2020-08-02', '2020-08-09',\n",
      "               '2020-08-16', '2020-08-23', '2020-08-30', '2020-09-06',\n",
      "               '2020-09-13', '2020-09-20', '2020-09-27', '2020-10-04',\n",
      "               '2020-10-11', '2020-10-18', '2020-10-25', '2020-11-01',\n",
      "               '2020-11-08', '2020-11-15', '2020-11-22', '2020-11-29'],\n",
      "              dtype='datetime64[ns]', freq='W-SUN')\n"
     ]
    }
   ],
   "source": [
    "dates = pd.date_range(start='2020-01-01', end='2020-12-31',freq= 'W-SUN')\n",
    "# print(dates)\n",
    "dates = pd.date_range(start='2020-01-01',periods=48,freq='W-SUN')\n",
    "print(dates)"
   ]
  },
  {
   "cell_type": "code",
   "execution_count": null,
   "metadata": {},
   "outputs": [
    {
     "name": "stdout",
     "output_type": "stream",
     "text": [
      "     nom  age  ville  salaire\n",
      "0   John   25  Paris     5000\n",
      "1    bob   30  Paris     2000\n",
      "2  clara   22  Paris     5000\n",
      "3  david   28  Paris     5000\n",
      "    nom  age  ville  salaire\n",
      "0  John   25  Paris     5000\n",
      "1   bob   30  Paris     2000\n",
      "la moyenne du salaire est :  4250.0\n",
      "     nom  age  ville  salaire\n",
      "0   John   25  Paris     5000\n",
      "1    bob   30  Paris     2000\n",
      "2  clara   22  Paris     5000\n",
      "3  david   28  Paris     5000\n",
      "nom        object\n",
      "age         int64\n",
      "ville      object\n",
      "salaire     int64\n",
      "dtype: object\n",
      "les personnes qui ont un salaire >3500\n",
      "     nom  age  ville  salaire\n",
      "0   John   25  Paris     5000\n",
      "2  clara   22  Paris     5000\n",
      "3  david   28  Paris     5000\n",
      "     nom  age  ville  salaire  prime\n",
      "0   John   25  Paris     5000  250.0\n",
      "1    bob   30  Paris     2000  100.0\n",
      "2  clara   22  Paris     5000  250.0\n",
      "3  david   28  Paris     5000  250.0\n",
      "     nom  age  ville  salaire  prime\n",
      "0   John   25  Paris     5000  250.0\n",
      "1    bob   30    tun     2000  100.0\n",
      "2  clara   22  Paris     5000  250.0\n",
      "3  david   28  Paris     5000  250.0\n"
     ]
    }
   ],
   "source": [
    "df=pd.DataFrame(\n",
    "    columns=['nom','age','ville','salaire']\n",
    ")\n",
    "# print(df)\n",
    "df.loc[0]=['John',25,'Paris',5000]\n",
    "df.loc[1]=['bob',30,'Paris',2000]\n",
    "df.loc[2]=['clara',22,'Paris',5000]\n",
    "df.loc[3]=['david',28,'Paris',5000]\n",
    "print(df)\n",
    "print(df.iloc[0:2])\n",
    "print(\"la moyenne du salaire est : \",np.sum(df[\"salaire\"].tolist())/len(df))\n",
    "print(df.iloc[0:4])\n",
    "print(df.dtypes)\n",
    "print(\"les personnes qui ont un salaire >3500\")\n",
    "print(df[(df[\"salaire\"]>3500)])\n",
    "df[\"prime\"]=df[\"salaire\"]*(5/100)\n",
    "print(df)\n",
    "\n",
    "df.loc[df[\"nom\"]==\"bob\",\"ville\"]='tun'\n",
    "print(df)\n"
   ]
  }
 ],
 "metadata": {
  "kernelspec": {
   "display_name": "base",
   "language": "python",
   "name": "python3"
  },
  "language_info": {
   "codemirror_mode": {
    "name": "ipython",
    "version": 3
   },
   "file_extension": ".py",
   "mimetype": "text/x-python",
   "name": "python",
   "nbconvert_exporter": "python",
   "pygments_lexer": "ipython3",
   "version": "3.12.4"
  }
 },
 "nbformat": 4,
 "nbformat_minor": 2
}
