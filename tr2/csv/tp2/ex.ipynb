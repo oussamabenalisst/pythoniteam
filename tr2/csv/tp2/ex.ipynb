{
 "cells": [
  {
   "cell_type": "code",
   "execution_count": 1,
   "id": "9eb465cf",
   "metadata": {},
   "outputs": [
    {
     "name": "stdout",
     "output_type": "stream",
     "text": [
      "   SR001  202001  100.0    FINAL  Dollars  Sales  G1  TitleA\n",
      "0  SR002  202002  200.0     PROV  Dollars  Sales  G1  TitleB\n",
      "1  SR003  202003    NaN    FINAL  Dollars  Sales  G1  TitleC\n",
      "2  SR004  202004  150.0  REVISED  Dollars  Sales  G1  TitleD\n",
      "-----------------\n",
      "  Series_reference  Period  Data_value   STATUS     UNIT Subjets Group  \\\n",
      "0            SR002  202002       200.0     PROV  Dollars   Sales    G1   \n",
      "1            SR003  202003         NaN    FINAL  Dollars   Sales    G1   \n",
      "2            SR004  202004       150.0  REVISED  Dollars   Sales    G1   \n",
      "\n",
      "  Series_title_1  \n",
      "0         TitleB  \n",
      "1         TitleC  \n",
      "2         TitleD  \n"
     ]
    }
   ],
   "source": [
    "import pandas as pd\n",
    "import numpy as np\n",
    "\n",
    "ax1=pd.read_csv(\"./ventes.csv\")\n",
    "print(ax1)\n",
    "#Changer le nom des deux premiers champs respectivement par Ref  et Période\n",
    "colo = [\"Series_reference\",\"Period\",\"Data_value\",\"STATUS\",\"UNIT\",\"Subjets\",\"Group\",\"Series_title_1\"]\n",
    "ax1.columns = colo\n",
    "print(\"-----------------\")\n",
    "print(ax1)\n",
    "#Supprimer le derniere colonne\n",
    "ax1.drop(ax1.columns[-1], axis=1, inplace=True)\n",
    "#Nettoyer les données en supprimant les valeurs NaN \n",
    "ax1.dropna(inplace=True)\n",
    "#Effectuer un copie du DataFrame (avec ou sans élimination de redondances) et aire une copie vers un fichier nommé Formatte.CSV.\n",
    "open(\"Formatte.csv\", \"w\").close()\n",
    "ax1.to_csv(\"Formatte.csv\", index=False) \n",
    "#Sur la base de cette nouvelle copie supprimer à la fois les colonnes UNIT et Subjets \n",
    "ax1.drop(columns=['UNIT', 'Subjets'], inplace=True)\n",
    "#Supprimer les lignes dont la valeur du champ STATUS est égale à ‘’FINAL’’\n",
    "ax1.drop(ax1[ax1['STATUS'] == 'FINAL'].index, inplace=True)\n",
    "\n"
   ]
  },
  {
   "cell_type": "code",
   "execution_count": 2,
   "id": "94f8b224",
   "metadata": {},
   "outputs": [
    {
     "name": "stdout",
     "output_type": "stream",
     "text": [
      "   POIDSLOG  POIDSF  cLT1FREQ  cLT2FREQ\n",
      "0       1.5     2.0         5       1.0\n",
      "1       2.2     1.8        10       2.0\n"
     ]
    }
   ],
   "source": [
    "ax2=pd.read_csv(\"./donnees_enquete_2003_television.csv\")\n",
    "#Supprimer les colonnes vides\n",
    "ax2.dropna(axis=1, how='all', inplace=True)\n",
    "#Obtenir les valeurs distinctes pour la colonne cLT2FREQ\n",
    "ax2['cLT2FREQ'].unique()\n",
    "#Modifier la matrice pour enlever les lignes pour lesquelles l’unité de temps (cLT2FREQ) n’est pas renseignée ou égale à zéro. \n",
    "ax2.drop(ax2[ax2['cLT2FREQ'].isnull() | (ax2['cLT2FREQ'] == 0)].index, inplace=True)\n",
    "#Sauver le résultat au format Excel. \n",
    "ax2.to_excel(\"donnees_enquete_2003_television.xlsx\", index=False)\n",
    "print(ax2)\n"
   ]
  },
  {
   "cell_type": "code",
   "execution_count": null,
   "id": "3082c949",
   "metadata": {},
   "outputs": [
    {
     "name": "stdout",
     "output_type": "stream",
     "text": [
      "Informations sur les données manquantes:\n",
      "index               0\n",
      "company             0\n",
      "body-style          0\n",
      "wheel-base          0\n",
      "length              0\n",
      "engine-type         0\n",
      "num-of-cylinders    0\n",
      "horsepower          1\n",
      "average-mileage     0\n",
      "price               0\n",
      "dtype: int64\n",
      "\n",
      "Données après traitement:\n",
      "   index company body-style  wheel-base  length engine-type num-of-cylinders  \\\n",
      "0      0  Toyota      Sedan        95.7   158.7        dohc             four   \n",
      "1      1     BMW  Hatchback       101.2   172.6         ohc              six   \n",
      "2      2    Audi      Sedan        99.5   180.0        ohcv             five   \n",
      "3      3  Toyota        SUV       100.0   170.0        dohc             four   \n",
      "\n",
      "   horsepower  average-mileage     price  \n",
      "0   97.000000             24.0  13495.00  \n",
      "1  111.000000             28.0  16430.00  \n",
      "2  104.333333             26.0  20000.00  \n",
      "3  105.000000             19.5  12481.25  \n"
     ]
    }
   ],
   "source": [
    "\n",
    "\n",
    "# Lire le fichier CSV\n",
    "ex2 = pd.read_csv('Automobiles.csv')\n",
    "\n",
    "\n",
    "print(\"Informations sur les données manquantes:\")\n",
    "print(ex2.isnull().sum())\n",
    "\n",
    "ex2['horsepower'] = ex2['horsepower'].fillna(ex2['horsepower'].mean())\n",
    "ex2['price'] = ex2['price'].replace(0, ex2['price'].mean())\n",
    "ex2['average-mileage'] = ex2['average-mileage'].replace(0, ex2['average-mileage'].mean())\n",
    "\n",
    "print(\"\\nDonnées après traitement:\")\n",
    "print(ex2)\n",
    "\n",
    "ex2.to_csv('Automobiles_cleaned.csv', index=False)"
   ]
  }
 ],
 "metadata": {
  "kernelspec": {
   "display_name": "base",
   "language": "python",
   "name": "python3"
  },
  "language_info": {
   "codemirror_mode": {
    "name": "ipython",
    "version": 3
   },
   "file_extension": ".py",
   "mimetype": "text/x-python",
   "name": "python",
   "nbconvert_exporter": "python",
   "pygments_lexer": "ipython3",
   "version": "3.12.4"
  }
 },
 "nbformat": 4,
 "nbformat_minor": 5
}
