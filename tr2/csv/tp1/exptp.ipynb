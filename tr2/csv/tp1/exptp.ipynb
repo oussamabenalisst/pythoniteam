{
 "cells": [
  {
   "cell_type": "code",
   "execution_count": null,
   "id": "edc2a76f",
   "metadata": {},
   "outputs": [
    {
     "name": "stdout",
     "output_type": "stream",
     "text": [
      "DataFrame with NaN replaced by 0:\n",
      "            ID     NAME   AGE\n",
      "0          1.0    Fiona  78.0\n",
      "1          2.0   Hannah  80.0\n",
      "2          3.0   Hannah  32.0\n",
      "3          4.0  Charlie  51.0\n",
      "4          5.0    Julia  48.0\n",
      "...        ...      ...   ...\n",
      "9999   10000.0  Charlie  64.0\n",
      "10000      0.0        0   0.0\n",
      "10001  10001.0  Charlie  35.0\n",
      "10002      0.0        0  22.0\n",
      "10003      0.0        0   0.0\n",
      "\n",
      "[10004 rows x 3 columns]\n",
      "Mean of column 3:\n",
      "moyenne est  48.98090763694522\n",
      "DataFrame without duplicates in column 1:\n",
      "          ID     NAME   AGE\n",
      "0        1.0    Fiona  78.0\n",
      "1        2.0   Hannah  80.0\n",
      "3        4.0  Charlie  51.0\n",
      "4        5.0    Julia  48.0\n",
      "5        6.0    David  61.0\n",
      "6        7.0      Ian  37.0\n",
      "8        9.0    Alice  42.0\n",
      "11      12.0      Bob  74.0\n",
      "17      18.0   George  52.0\n",
      "27      28.0     Emma  67.0\n",
      "9951  9952.0        0  25.0\n",
      "moyenne est  55.90909090909091\n"
     ]
    }
   ],
   "source": [
    "import pandas as pd\n",
    "import numpy as np\n",
    "df=pd.read_csv('./sample_data_simple_id.csv')\n",
    "# si il y a une valeur null remplace par 0 et affiche le dataframe\n",
    "df.fillna(0, inplace=True)\n",
    "# affiche le dataframe avec les valeurs null remplacées par 0\n",
    "print(\"DataFrame with NaN replaced by 0:\")\n",
    "print(df)\n",
    "# affiche le moyenne de note qui  donne la colonne num 3\n",
    "print(\"Mean of column 3:\")\n",
    "print(\"moyenne est \",np.sum(df.iloc[:,2])/len(df.iloc[:,2]))\n",
    "# supprimer le redondant de la colonne 1 et affiche le dataframe\n",
    "df.drop_duplicates(subset=[df.columns[1]], inplace=True)\n",
    "# affiche le dataframe sans les doublons\n",
    "print(\"DataFrame without duplicates in column 1:\")\n",
    "print(df)\n",
    "print(\"moyenne est \",np.sum(df.iloc[:,2])/len(df.iloc[:,2]))\n"
   ]
  }
 ],
 "metadata": {
  "kernelspec": {
   "display_name": "base",
   "language": "python",
   "name": "python3"
  },
  "language_info": {
   "codemirror_mode": {
    "name": "ipython",
    "version": 3
   },
   "file_extension": ".py",
   "mimetype": "text/x-python",
   "name": "python",
   "nbconvert_exporter": "python",
   "pygments_lexer": "ipython3",
   "version": "3.12.4"
  }
 },
 "nbformat": 4,
 "nbformat_minor": 5
}
