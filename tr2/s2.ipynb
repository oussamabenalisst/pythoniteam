{
 "cells": [
  {
   "cell_type": "code",
   "execution_count": null,
   "metadata": {},
   "outputs": [
    {
     "name": "stdout",
     "output_type": "stream",
     "text": [
      "x     7\n",
      "y    10\n",
      "z     5\n",
      "dtype: int64\n",
      "10\n"
     ]
    }
   ],
   "source": [
    "import pandas as pd\n",
    "a=[1,7,2]\n",
    "b=pd.Series(a,index=[\"x\",\"y\",\"z\"])\n",
    "print(b)\n",
    "print(b[\"y\"])"
   ]
  },
  {
   "cell_type": "code",
   "execution_count": 7,
   "metadata": {},
   "outputs": [
    {
     "name": "stdout",
     "output_type": "stream",
     "text": [
      "day1    420\n",
      "day2    380\n",
      "day3    390\n",
      "dtype: int64\n"
     ]
    }
   ],
   "source": [
    "calories ={\n",
    "    \"day1\": 420,\n",
    "    \"day2\": 380,\n",
    "    \"day3\": 390\n",
    "}\n",
    "\n",
    "bb=pd.Series(calories)\n",
    "print(bb)"
   ]
  },
  {
   "cell_type": "code",
   "execution_count": 9,
   "metadata": {},
   "outputs": [
    {
     "name": "stdout",
     "output_type": "stream",
     "text": [
      "   calories  duration\n",
      "0       420        50\n",
      "1       380        45\n",
      "2       390        30\n",
      "calories    420\n",
      "duration     50\n",
      "Name: 0, dtype: int64\n"
     ]
    }
   ],
   "source": [
    "data={\n",
    "    \"calories\":[420,380,390],\n",
    "    \"duration\":[50,45,30]\n",
    "}\n",
    "b=pd.DataFrame(data)\n",
    "print(b)\n",
    "print(b.loc[0])"
   ]
  },
  {
   "cell_type": "code",
   "execution_count": null,
   "metadata": {},
   "outputs": [
    {
     "name": "stdout",
     "output_type": "stream",
     "text": [
      "            0  1\n",
      "0       India  2\n",
      "1    Cameroon  4\n",
      "2       Niger  3\n",
      "3      Jordan  5\n",
      "4  Mauritania  3\n"
     ]
    }
   ],
   "source": [
    "long=[\"India\",\"Cameroon\",\"Niger\",\"Jordan\",\"Mauritania\"]\n",
    "\n",
    "b=pd.DataFrame(long)\n",
    "\n",
    "num=[\"2\",\"4\",\"3\",\"5\",\"3\"]\n",
    "b[1]=num\n",
    "\n",
    "\n",
    "print(b)\n"
   ]
  },
  {
   "cell_type": "code",
   "execution_count": 19,
   "metadata": {},
   "outputs": [
    {
     "name": "stdout",
     "output_type": "stream",
     "text": [
      "   a   b     c\n",
      "0  1   2   NaN\n",
      "1  5  10  20.0\n",
      "--------------------------------\n",
      "      a   b\n",
      "row1  1   2\n",
      "raw2  5  10\n",
      "--------------------------------\n",
      "      a   b     c\n",
      "row1  1   2   NaN\n",
      "raw2  5  10  20.0\n",
      "--------------------------------\n",
      "      a   b     c   d\n",
      "row1  1   2   NaN NaN\n",
      "raw2  5  10  20.0 NaN\n"
     ]
    }
   ],
   "source": [
    "data=[{'a':1, 'b':2}, {'a':5, 'b':10,'c':20}]\n",
    "\n",
    "df = pd.DataFrame(data)\n",
    "df2 = pd.DataFrame(data,index=['row1','raw2'],columns=['a','b'])\n",
    "df3 = pd.DataFrame(data,index=['row1','raw2'],columns=['a','b','c'])\n",
    "df4 = pd.DataFrame(data,index=['row1','raw2'],columns=['a','b','c','d'])\n",
    "\n",
    "print(df)\n",
    "print(\"--------------------------------\")\n",
    "print(df2)\n",
    "print(\"--------------------------------\")\n",
    "print(df3)\n",
    "print(\"--------------------------------\")\n",
    "print(df4)"
   ]
  },
  {
   "cell_type": "code",
   "execution_count": 20,
   "metadata": {},
   "outputs": [
    {
     "name": "stdout",
     "output_type": "stream",
     "text": [
      "     a  b\n",
      "a  1.0  1\n",
      "b  2.0  2\n",
      "c  3.0  3\n",
      "d  NaN  4\n"
     ]
    }
   ],
   "source": [
    "dict={'a':pd.Series([1,2,3,],index=['a','b','c']),\n",
    "     'b':pd.Series([1,2,3,4],index=['a','b','c','d']) }\n",
    "\n",
    "df=pd.DataFrame(dict)\n",
    "\n",
    "print(df)\n"
   ]
  },
  {
   "cell_type": "code",
   "execution_count": 21,
   "metadata": {},
   "outputs": [
    {
     "name": "stdout",
     "output_type": "stream",
     "text": [
      "a    100\n",
      "b    200\n",
      "c    300\n",
      "d    400\n",
      "e    800\n",
      "dtype: int64\n"
     ]
    }
   ],
   "source": [
    "###########tp2#######################################\n",
    "e={\n",
    "    \"a\":100,\n",
    "    \"b\":200,\n",
    "    \"c\":300,\n",
    "    \"d\":400,\n",
    "    \"e\":800,\n",
    "}\n",
    "ee=pd.Series(e)\n",
    "print(ee)"
   ]
  },
  {
   "cell_type": "code",
   "execution_count": null,
   "metadata": {},
   "outputs": [],
   "source": []
  }
 ],
 "metadata": {
  "kernelspec": {
   "display_name": "base",
   "language": "python",
   "name": "python3"
  },
  "language_info": {
   "codemirror_mode": {
    "name": "ipython",
    "version": 3
   },
   "file_extension": ".py",
   "mimetype": "text/x-python",
   "name": "python",
   "nbconvert_exporter": "python",
   "pygments_lexer": "ipython3",
   "version": "3.12.4"
  }
 },
 "nbformat": 4,
 "nbformat_minor": 2
}
