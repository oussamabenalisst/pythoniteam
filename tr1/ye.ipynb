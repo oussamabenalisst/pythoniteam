{
 "cells": [
  {
   "cell_type": "code",
   "execution_count": null,
   "metadata": {},
   "outputs": [],
   "source": [
    "t=[]\n",
    "ch=input('ch=')\n",
    "s=0\n",
    "if ch[len(ch)-1]!=\" \" : \n",
    "    ch+=\" \"\n",
    "while ch!=\"\":\n",
    "    t.append(ch[:ch.find(\" \")].upper())\n",
    "    ch=ch[ch.find(\" \")+1:len(ch)]\n",
    "    \n",
    "    i=0\n",
    "print(t)\n",
    "\n"
   ]
  }
 ],
 "metadata": {
  "kernelspec": {
   "display_name": "base",
   "language": "python",
   "name": "python3"
  },
  "language_info": {
   "codemirror_mode": {
    "name": "ipython",
    "version": 3
   },
   "file_extension": ".py",
   "mimetype": "text/x-python",
   "name": "python",
   "nbconvert_exporter": "python",
   "pygments_lexer": "ipython3",
   "version": "3.12.4"
  }
 },
 "nbformat": 4,
 "nbformat_minor": 2
}
