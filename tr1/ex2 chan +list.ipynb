{
 "cells": [
  {
   "cell_type": "code",
   "execution_count": null,
   "id": "ac8d2b60-01d9-49ac-85ea-8f8e738b6ea5",
   "metadata": {},
   "outputs": [
    {
     "name": "stdout",
     "output_type": "stream",
     "text": [
      "le note <5  1\n",
      "le note ==0  0\n",
      "total des note :  30\n"
     ]
    }
   ],
   "source": [
    "stock=[]\n",
    "qt=[]\n",
    "\n",
    "\n",
    "n=int(input(\"donne n : \"))\n",
    "while n<=0 :\n",
    "    n=int(input(\"donne n : \"))\n",
    "\n",
    "s=0\n",
    "total=0\n",
    "rn=0\n",
    "for i in range(n) : \n",
    "    ch=input(\"donne ch : \")\n",
    "    x=int(input(\"donne qt : \"))\n",
    "    stock.append(ch)\n",
    "    qt.append(x)\n",
    "    if qt[i] !=0 : \n",
    "        rn+=1\n",
    "        s+=1\n",
    "    elif qt[i]<5 : \n",
    "        s+=1\n",
    "    total+=qt[i]\n",
    "\n",
    "print(\"le note inferieure a 5 \",s)\n",
    "print(\"le note egale 0 \",rn)\n",
    "print(\"total des note : \",total)\n",
    "    \n",
    "    "
   ]
  },
  {
   "cell_type": "code",
   "execution_count": null,
   "id": "fb30a848-b00d-49ba-a13e-567a1040b9f0",
   "metadata": {},
   "outputs": [
    {
     "name": "stdout",
     "output_type": "stream",
     "text": [
      "donne une phrase :  oussama Benali Star putiN vladimaR\n"
     ]
    },
    {
     "name": "stdout",
     "output_type": "stream",
     "text": [
      "le paragraph = [oussama Benali Star putiN vladimaR]\n",
      "les number mos dons le mots est =  5\n",
      "les mots qui on majuscule est : [Benali,Star,putiN,vladimaR]\n"
     ]
    }
   ],
   "source": [
    "ch=input(\"donne une phrase : \")\n",
    "while ch ==\"\" or ch.find(\" \")==-1  : \n",
    "    ch = input(\"donne une phrase : \")\n",
    "s=0\n",
    "if (ch[len(ch)-1]!=\" \") : \n",
    "    ch1=ch+\" \" \n",
    "else :\n",
    "    ch1=ch\n",
    "res=\"\"\n",
    "while ch1!=\"\" : \n",
    "    s=s+1\n",
    "    inch=ch1[:ch1.find(\" \")]\n",
    "    ch1=ch1[ch1.find(\" \")+1:len(ch1)]\n",
    "    i=0\n",
    "    while  i<len(inch) and (inch[i]!=inch[i].upper()) : \n",
    "        i+=1\n",
    "    if i!=len(inch) : \n",
    "        res+=inch+\",\"\n",
    "print(\"le paragraph = [\"+ ch +\"]\")\n",
    "print(\"les number mos dons le mots est = \",s)\n",
    "print(\"les mots qui on majuscule est : [\"+res[:len(res)-1]+\"]\")"
   ]
  }
 ],
 "metadata": {
  "kernelspec": {
   "display_name": "base",
   "language": "python",
   "name": "python3"
  },
  "language_info": {
   "codemirror_mode": {
    "name": "ipython",
    "version": 3
   },
   "file_extension": ".py",
   "mimetype": "text/x-python",
   "name": "python",
   "nbconvert_exporter": "python",
   "pygments_lexer": "ipython3",
   "version": "3.12.4"
  }
 },
 "nbformat": 4,
 "nbformat_minor": 5
}
