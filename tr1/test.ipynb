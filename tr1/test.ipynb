{
 "cells": [
  {
   "cell_type": "code",
   "execution_count": null,
   "id": "938095bb-0577-4848-8e47-09de3c673127",
   "metadata": {},
   "outputs": [
    {
     "name": "stdout",
     "output_type": "stream",
     "text": [
      "AEANTOA est valide\n"
     ]
    }
   ],
   "source": [
    "from random import randint\n",
    "caracter=[\"E\"]*15+[\"A\"]*9+[\"I\"]*6+[\"N\"]*6+[\"O\"]*6+[\"R\"]*6+[\"T\"]*6+[\"S\"]*6\n",
    "voyelle=['A', 'E', 'I', 'O', 'U', 'Y']\n",
    "test=True \n",
    "while test :\n",
    "    ch=\"\"\n",
    "    for i in range(7):\n",
    "        ch=ch+caracter[randint(0,len(caracter)-1)]\n",
    "    j=0\n",
    "    for i in range(len(ch)):\n",
    "        if ch[i] in voyelle:\n",
    "            j+=1\n",
    "        if j==2:\n",
    "            test=False\n",
    "            break\n",
    "    print(ch +\" est valide\" if test==False else ch+\" est no valide\")"
   ]
  }
 ],
 "metadata": {
  "kernelspec": {
   "display_name": "base",
   "language": "python",
   "name": "python3"
  },
  "language_info": {
   "codemirror_mode": {
    "name": "ipython",
    "version": 3
   },
   "file_extension": ".py",
   "mimetype": "text/x-python",
   "name": "python",
   "nbconvert_exporter": "python",
   "pygments_lexer": "ipython3",
   "version": "3.12.4"
  }
 },
 "nbformat": 4,
 "nbformat_minor": 5
}
