{
 "cells": [
  {
   "cell_type": "code",
   "execution_count": 17,
   "metadata": {},
   "outputs": [
    {
     "name": "stdout",
     "output_type": "stream",
     "text": [
      "20\n"
     ]
    }
   ],
   "source": [
    "\n",
    "#? ex1 \n",
    "s=0\n",
    "t=[1,2,3,4,5]\n",
    "for i in range(len(t)):\n",
    "    if t[i]%2==0:\n",
    "        s+=t[i]**2\n",
    "print (s)\n"
   ]
  },
  {
   "cell_type": "code",
   "execution_count": null,
   "metadata": {},
   "outputs": [
    {
     "name": "stdout",
     "output_type": "stream",
     "text": [
      "[1, 2, 3, 4, 5, 6]\n"
     ]
    }
   ],
   "source": [
    "\n",
    "# ? ex 2 \n",
    "t1=[1,4,6]\n",
    "t2=[2,3,5]\n",
    "print(sorted(t1+t2))"
   ]
  },
  {
   "cell_type": "code",
   "execution_count": null,
   "metadata": {},
   "outputs": [
    {
     "name": "stdout",
     "output_type": "stream",
     "text": [
      "il y a  2 mots uniques\n"
     ]
    }
   ],
   "source": [
    "\n",
    "# ? ex 3 \n",
    "ch=input(\"donne une chaine : \")\n",
    "while ch.find(\"\")==-1:\n",
    "    ch=input(\"donne une chaine : \")\n",
    "if ch[len(ch)-1]!=\" \" : \n",
    "    ch+=\" \"\n",
    "t=[]\n",
    "while ch != \"\" : \n",
    "    mo=ch[:ch.find(\" \")]\n",
    "    ch=ch[ch.find(\" \")+1:len(ch)]\n",
    "    if not mo.upper() in t:\n",
    "        t.append(mo.upper())      \n",
    "print(\"il y a \",len(t),\"mots uniques\")"
   ]
  },
  {
   "cell_type": "code",
   "execution_count": 14,
   "metadata": {},
   "outputs": [
    {
     "name": "stdout",
     "output_type": "stream",
     "text": [
      "le produit scalaire est 32\n"
     ]
    }
   ],
   "source": [
    "\n",
    "# ? ex 5\n",
    "t1=[1,2,3]\n",
    "t2=[4,5,6]\n",
    "s=0\n",
    "for i in range(len(t1)):\n",
    "    s+=t1[i]*t2[i]\n",
    "print(\"le produit scalaire est\",s)\n"
   ]
  },
  {
   "cell_type": "code",
   "execution_count": 13,
   "metadata": {},
   "outputs": [
    {
     "name": "stdout",
     "output_type": "stream",
     "text": [
      "*****menu*****\n",
      "0 . cerclte\n",
      "1 . carré\n",
      "2 . rectangle\n",
      "3 . triangle\n",
      "Aire :  78.53981633974483\n"
     ]
    }
   ],
   "source": [
    "\n",
    "# ? ex 7\n",
    "import math\n",
    "choix = [\"cerclte\",\"carré\",\"rectangle\",\"triangle\"]\n",
    "print(\"*\"*5+\"menu\"+\"*\"*5)\n",
    "for i,item in enumerate(choix):\n",
    "    print(i,'.',item)\n",
    "n=int(input(\"donne voter choix : \"))\n",
    "while not 0<=n<=len(choix) : \n",
    "    n=int (input(\"donne voter choix : \"))\n",
    "r=int(input(\"donne voter rayon : \"))\n",
    "while r<0 : \n",
    "    r=int (input(\"donne voter rayon : \"))\n",
    "match choix[n] : \n",
    "    case \"cerclte\" :\n",
    "        print(\"Aire : \",math.pi*r**2)\n",
    "    case \"carré\" :\n",
    "        print(\"Aire : \",r**2)\n",
    "    case \"rectangle\" :\n",
    "        l=int(input(\"donne la largeur : \"))\n",
    "        while l<0 : \n",
    "            l=int (input(\"donne la largeur : \"))\n",
    "        print(\"Aire : \",l*r)\n",
    "    case \"triangle\" :\n",
    "        h=int(input(\"donne la hauteur : \"))\n",
    "        while h<0 : \n",
    "            h=int (input(\"donne la hauteur : \"))\n",
    "        l=int(input(\"donne la largeur : \"))\n",
    "        while l<0 : \n",
    "            l=int (input(\"donne la largeur : \"))\n",
    "        print(\"Aire : \",(l*r)/2)\n"
   ]
  },
  {
   "cell_type": "code",
   "execution_count": 6,
   "metadata": {},
   "outputs": [
    {
     "name": "stdout",
     "output_type": "stream",
     "text": [
      "['un', 'deux', 'trois', 'quatre', 'cinq', 'six', 'sept', 'huit', 'neuf']\n"
     ]
    }
   ],
   "source": [
    "\n",
    "# ? ex 4\n",
    "from num2words import num2words\n",
    "# Nombre à convertir \n",
    "nombre = [1,2,3,4,5,6,7,8,9]\n",
    "# Convertir le nombre en mots \n",
    "mots =[]\n",
    "for i in range(0, len(nombre)):\n",
    "    mots.append(num2words(nombre[i], lang='fr') )\n",
    "print(mots)"
   ]
  },
  {
   "cell_type": "code",
   "execution_count": 10,
   "metadata": {},
   "outputs": [
    {
     "name": "stdout",
     "output_type": "stream",
     "text": [
      "oUsSaMaM\n"
     ]
    }
   ],
   "source": [
    "\n",
    "#? ex 6\n",
    "ch=input(\"donne un mots : \")\n",
    "res=\"\"\n",
    "for i in range(0, len(ch)) : \n",
    "    if i%2!=0 : \n",
    "        res+=ch[i].upper()\n",
    "    else : \n",
    "        res+=ch[i]\n",
    "print(res)\n"
   ]
  }
 ],
 "metadata": {
  "kernelspec": {
   "display_name": "base",
   "language": "python",
   "name": "python3"
  },
  "language_info": {
   "codemirror_mode": {
    "name": "ipython",
    "version": 3
   },
   "file_extension": ".py",
   "mimetype": "text/x-python",
   "name": "python",
   "nbconvert_exporter": "python",
   "pygments_lexer": "ipython3",
   "version": "3.12.4"
  }
 },
 "nbformat": 4,
 "nbformat_minor": 2
}
